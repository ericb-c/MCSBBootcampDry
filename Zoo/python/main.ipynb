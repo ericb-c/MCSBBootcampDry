{
 "cells": [
  {
   "cell_type": "markdown",
   "metadata": {
    "slideshow": {
     "slide_type": "slide"
    }
   },
   "source": [
    "# 0.1 Overview\n",
    "\n",
    "## You have a protein name. \n",
    "\n",
    "### How do you download the data from PDB?\n",
    "\n",
    "### How do you find patterns in amino acid sequence?\n",
    "\n",
    "### How do you find the largest region of overlap between your protein and another protein?\n",
    "\n"
   ]
  },
  {
   "cell_type": "markdown",
   "metadata": {
    "slideshow": {
     "slide_type": "subslide"
    }
   },
   "source": [
    "# 0.2 Specific programming related objectives\n",
    "\n",
    "1. What kind of language is `python`?\n",
    "1. Downloading a `python` package\n",
    "1. Data types (`int`, `float`, `str`, `bool`, `list`, `dict`)\n",
    "1. Math\n",
    "1. Flow control elements (`for` loop, `if`, `break`, `continue`)\n",
    "1. Plots (line plot, histogram, colors, axis labels, legend)\n",
    "1. Doing `MATLAB` or `R` stuff in Python\n",
    "1. When to not use `python`"
   ]
  },
  {
   "cell_type": "markdown",
   "metadata": {
    "slideshow": {
     "slide_type": "slide"
    }
   },
   "source": [
    "# 1. Why Python?\n",
    "\n",
    "<img src=\"imgs\\python_logo.png\" alt=\"Python symbol\" style=\"width: 200px;\"/>\n",
    "\n",
    "## Open source, general purpose, interpreted language\n",
    "\n",
    "## Easy to read, write (fast prototyping)\n",
    "\n",
    "- Faster than MATLAB*, R*\n",
    "- Great with strings\n",
    "- Also do matrices, solving differential equations, interact with various databases, machine learning\n",
    "- General purpose - Build websites, GUIs, games, etc.\n",
    "\n",
    "## There is a package to solve your problem!\n",
    "   - Packages:Python::Plugins:Firefox/Chrome\n",
    "   - `pip install <packagename>` e.g. `pip install numpy`\n"
   ]
  },
  {
   "cell_type": "markdown",
   "metadata": {
    "slideshow": {
     "slide_type": "slide"
    }
   },
   "source": [
    "# 2. How to start with Python?\n",
    "\n",
    "## Download a distribution (e.g. Anaconda)\n",
    "- Anaconda = `python` + common packages (Anaconda:`python`::macOS:Linux)\n",
    "\n",
    "## Start a Jupyter Notebook\n",
    "- With Anaconda Navigator \n",
    "- Or, open up Anaconda prompt and type `jupyter notebook`\n",
    "\n",
    "## Start coding!"
   ]
  },
  {
   "cell_type": "markdown",
   "metadata": {
    "slideshow": {
     "slide_type": "slide"
    }
   },
   "source": [
    "# 4. Jupyter notebooks\n",
    "\n",
    "# DEMO\n",
    "\n",
    "## 4.1 Code + explanation in one place using Markdown\n",
    "\n",
    "\n",
    "![Markdown syntax](imgs\\markdown_syntax.png)\n"
   ]
  },
  {
   "cell_type": "markdown",
   "metadata": {
    "slideshow": {
     "slide_type": "subslide"
    }
   },
   "source": [
    "## 4.2 Markdown rendered\n",
    "\n",
    "![Markdown render](imgs\\markdown_render.png)"
   ]
  },
  {
   "cell_type": "markdown",
   "metadata": {
    "slideshow": {
     "slide_type": "subslide"
    }
   },
   "source": [
    "## 4.3 Convert to other format easily\n",
    "<center><img src=\"imgs\\output_formats.png\" alt=\"Output format\" style=\"height: 400px;\"/></center>\n",
    "- Some formats may need LaTeX installed\n"
   ]
  },
  {
   "cell_type": "markdown",
   "metadata": {
    "slideshow": {
     "slide_type": "slide"
    }
   },
   "source": [
    "# 5. Basic data types and syntax\n",
    "\n",
    "## 5.1 Integers (`int`) & Floats (`float`)\n",
    "Basically, numbers"
   ]
  },
  {
   "cell_type": "code",
   "execution_count": 1,
   "metadata": {
    "slideshow": {
     "slide_type": "-"
    }
   },
   "outputs": [
    {
     "name": "stdout",
     "output_type": "stream",
     "text": [
      "2\n"
     ]
    }
   ],
   "source": [
    "example_int = 2\n",
    "print(example_int)"
   ]
  },
  {
   "cell_type": "code",
   "execution_count": 2,
   "metadata": {
    "slideshow": {
     "slide_type": "-"
    }
   },
   "outputs": [
    {
     "name": "stdout",
     "output_type": "stream",
     "text": [
      "2.0\n"
     ]
    }
   ],
   "source": [
    "example_float = 2.0\n",
    "print(example_float)"
   ]
  },
  {
   "cell_type": "code",
   "execution_count": 3,
   "metadata": {
    "slideshow": {
     "slide_type": "-"
    }
   },
   "outputs": [
    {
     "name": "stdout",
     "output_type": "stream",
     "text": [
      "<class 'int'> <class 'float'>\n"
     ]
    }
   ],
   "source": [
    "print(type(example_int), type(example_float))"
   ]
  },
  {
   "cell_type": "code",
   "execution_count": 4,
   "metadata": {
    "slideshow": {
     "slide_type": "-"
    }
   },
   "outputs": [
    {
     "name": "stdout",
     "output_type": "stream",
     "text": [
      "4.0 <class 'float'>\n"
     ]
    }
   ],
   "source": [
    "x = example_int + example_float\n",
    "print(x, type(x))"
   ]
  },
  {
   "cell_type": "markdown",
   "metadata": {
    "slideshow": {
     "slide_type": "subslide"
    }
   },
   "source": [
    "## 5.1.2 Basic math\n"
   ]
  },
  {
   "cell_type": "code",
   "execution_count": 5,
   "metadata": {
    "slideshow": {
     "slide_type": "-"
    }
   },
   "outputs": [
    {
     "name": "stdout",
     "output_type": "stream",
     "text": [
      "2.1\n",
      "-1.9 0.2\n",
      "0.22999999999999998\n"
     ]
    }
   ],
   "source": [
    "num1 = 1e-1  # use e-1 to multiple by 10^{-1} \n",
    "num2 = 2  # spaces are not necessary, but nice\n",
    "print(num1 + num2)  # Addition\n",
    "print(num1 - num2, num1 * num2)  # Subtraction and multiplication\n",
    "print(num1 * 2.3)"
   ]
  },
  {
   "cell_type": "code",
   "execution_count": 6,
   "metadata": {
    "slideshow": {
     "slide_type": "-"
    }
   },
   "outputs": [
    {
     "name": "stdout",
     "output_type": "stream",
     "text": [
      "1.5 1.5\n"
     ]
    }
   ],
   "source": [
    "print(3 / 2, 3 / 2.0)  # Dividing by int is same as dividing by float"
   ]
  },
  {
   "cell_type": "code",
   "execution_count": 7,
   "metadata": {
    "slideshow": {
     "slide_type": "-"
    }
   },
   "outputs": [
    {
     "name": "stdout",
     "output_type": "stream",
     "text": [
      "1 3\n"
     ]
    }
   ],
   "source": [
    "print(7//4, 7%4)  # Get quotient with // and remainder with percent sign"
   ]
  },
  {
   "cell_type": "code",
   "execution_count": 2,
   "metadata": {
    "slideshow": {
     "slide_type": "-"
    }
   },
   "outputs": [
    {
     "name": "stdout",
     "output_type": "stream",
     "text": [
      "32\n"
     ]
    }
   ],
   "source": [
    "print(2**5)  # Raise to power with **"
   ]
  },
  {
   "cell_type": "markdown",
   "metadata": {
    "slideshow": {
     "slide_type": "subslide"
    }
   },
   "source": [
    "## 5.1.3 Mathematical functions\n",
    "\n",
    "First import the `math` library, and call functions with `math.exp(2)` or `math.sin(3)`. Or the `numpy` package if you have it installed"
   ]
  },
  {
   "cell_type": "code",
   "execution_count": 3,
   "metadata": {
    "slideshow": {
     "slide_type": "-"
    }
   },
   "outputs": [
    {
     "name": "stdout",
     "output_type": "stream",
     "text": [
      "1.2246467991473532e-16\n",
      "1.2246467991473532e-16\n"
     ]
    }
   ],
   "source": [
    "import math\n",
    "print(math.sin(math.pi))  # why is not zero?\n",
    "import numpy as np  # np is shorthand for numpy, so you don't have to type it out\n",
    "print(np.sin(np.pi))  # `np` is a shorthand, pick your own!"
   ]
  },
  {
   "cell_type": "markdown",
   "metadata": {
    "slideshow": {
     "slide_type": "-"
    }
   },
   "source": [
    "Why is it not zero?"
   ]
  },
  {
   "cell_type": "markdown",
   "metadata": {
    "slideshow": {
     "slide_type": "subslide"
    }
   },
   "source": [
    "### Exercise\n",
    "\n",
    "Evaluate $(\\pi + 2x)/(\\sin(x/2) + \\log_{10}(x))$ for $x = 2$"
   ]
  },
  {
   "cell_type": "code",
   "execution_count": 4,
   "metadata": {
    "slideshow": {
     "slide_type": "-"
    },
    "tags": [
     "raises-exception"
    ]
   },
   "outputs": [
    {
     "ename": "AssertionError",
     "evalue": "",
     "output_type": "error",
     "traceback": [
      "\u001b[1;31m---------------------------------------------------------------------------\u001b[0m",
      "\u001b[1;31mAssertionError\u001b[0m                            Traceback (most recent call last)",
      "\u001b[1;32m<ipython-input-4-248cb2afe9dd>\u001b[0m in \u001b[0;36m<module>\u001b[1;34m()\u001b[0m\n\u001b[0;32m      1\u001b[0m \u001b[0mx\u001b[0m \u001b[1;33m=\u001b[0m \u001b[1;36m2\u001b[0m\u001b[1;33m\u001b[0m\u001b[0m\n\u001b[0;32m      2\u001b[0m \u001b[0my\u001b[0m \u001b[1;33m=\u001b[0m \u001b[1;36m5\u001b[0m \u001b[1;31m# Replace the hardcoded value\u001b[0m\u001b[1;33m\u001b[0m\u001b[0m\n\u001b[1;32m----> 3\u001b[1;33m \u001b[1;32massert\u001b[0m\u001b[1;33m(\u001b[0m\u001b[0mabs\u001b[0m\u001b[1;33m(\u001b[0m\u001b[0my\u001b[0m \u001b[1;33m-\u001b[0m \u001b[1;36m5.251636631000412\u001b[0m\u001b[1;33m)\u001b[0m \u001b[1;33m<\u001b[0m \u001b[1;36m1e-3\u001b[0m\u001b[1;33m)\u001b[0m  \u001b[1;31m# note that `abs` is a native function, not using `math.abs`\u001b[0m\u001b[1;33m\u001b[0m\u001b[0m\n\u001b[0m",
      "\u001b[1;31mAssertionError\u001b[0m: "
     ]
    }
   ],
   "source": [
    "x = 2\n",
    "y = 5 # Replace the hardcoded value\n",
    "assert(abs(y - 5.251636631000412) < 1e-3)  # note that `abs` is a native function, not using `math.abs`"
   ]
  },
  {
   "cell_type": "markdown",
   "metadata": {
    "slideshow": {
     "slide_type": "subslide"
    }
   },
   "source": [
    "## 5.2 String (`str`)\n",
    "\n",
    "- Can be enclosed in single or double quotes"
   ]
  },
  {
   "cell_type": "code",
   "execution_count": 7,
   "metadata": {
    "slideshow": {
     "slide_type": "-"
    }
   },
   "outputs": [
    {
     "name": "stdout",
     "output_type": "stream",
     "text": [
      "Example_str :  abcde\n",
      "Example_str2 :  abcde\n",
      "b <class 'str'>\n",
      "bcd\n"
     ]
    }
   ],
   "source": [
    "example_str = \"abcde\"\n",
    "example_str2 = 'abcde'\n",
    "print(\"Example_str : \", example_str)\n",
    "print(\"Example_str2 : \", example_str2)\n",
    "print(example_str[1], type(example_str[0]))\n",
    "temp_str=example_str[1:4]\n",
    "print(temp_str)"
   ]
  },
  {
   "cell_type": "markdown",
   "metadata": {
    "slideshow": {
     "slide_type": "-"
    }
   },
   "source": [
    "### Exercise\n",
    "\n",
    "Access the middle 3 letters of `example_str` and store it in `temp_str`"
   ]
  },
  {
   "cell_type": "code",
   "execution_count": 12,
   "metadata": {
    "collapsed": true,
    "slideshow": {
     "slide_type": "-"
    }
   },
   "outputs": [],
   "source": [
    "temp_str = \"bcd\" # Replace hardcoded value\n",
    "assert(temp_str == \"bcd\")"
   ]
  },
  {
   "cell_type": "code",
   "execution_count": 9,
   "metadata": {
    "slideshow": {
     "slide_type": "-"
    }
   },
   "outputs": [
    {
     "ename": "SyntaxError",
     "evalue": "invalid syntax (<ipython-input-9-2bfcb4b3bc50>, line 1)",
     "output_type": "error",
     "traceback": [
      "\u001b[1;36m  File \u001b[1;32m\"<ipython-input-9-2bfcb4b3bc50>\"\u001b[1;36m, line \u001b[1;32m1\u001b[0m\n\u001b[1;33m    print(example_str.capitalize(0:3) + \" string capitalization and addition\")\u001b[0m\n\u001b[1;37m                                  ^\u001b[0m\n\u001b[1;31mSyntaxError\u001b[0m\u001b[1;31m:\u001b[0m invalid syntax\n"
     ]
    }
   ],
   "source": [
    "print(example_str.capitalize() + \" string capitalization and addition\")"
   ]
  },
  {
   "cell_type": "markdown",
   "metadata": {
    "slideshow": {
     "slide_type": "subslide"
    }
   },
   "source": [
    "### Look at help with (demo this + web):"
   ]
  },
  {
   "cell_type": "code",
   "execution_count": 14,
   "metadata": {},
   "outputs": [
    {
     "name": "stdout",
     "output_type": "stream",
     "text": [
      "Help on class str in module builtins:\n",
      "\n",
      "class str(object)\n",
      " |  str(object='') -> str\n",
      " |  str(bytes_or_buffer[, encoding[, errors]]) -> str\n",
      " |  \n",
      " |  Create a new string object from the given object. If encoding or\n",
      " |  errors is specified, then the object must expose a data buffer\n",
      " |  that will be decoded using the given encoding and error handler.\n",
      " |  Otherwise, returns the result of object.__str__() (if defined)\n",
      " |  or repr(object).\n",
      " |  encoding defaults to sys.getdefaultencoding().\n",
      " |  errors defaults to 'strict'.\n",
      " |  \n",
      " |  Methods defined here:\n",
      " |  \n",
      " |  __add__(self, value, /)\n",
      " |      Return self+value.\n",
      " |  \n",
      " |  __contains__(self, key, /)\n",
      " |      Return key in self.\n",
      " |  \n",
      " |  __eq__(self, value, /)\n",
      " |      Return self==value.\n",
      " |  \n",
      " |  __format__(self, format_spec, /)\n",
      " |      Return a formatted version of the string as described by format_spec.\n",
      " |  \n",
      " |  __ge__(self, value, /)\n",
      " |      Return self>=value.\n",
      " |  \n",
      " |  __getattribute__(self, name, /)\n",
      " |      Return getattr(self, name).\n",
      " |  \n",
      " |  __getitem__(self, key, /)\n",
      " |      Return self[key].\n",
      " |  \n",
      " |  __getnewargs__(...)\n",
      " |  \n",
      " |  __gt__(self, value, /)\n",
      " |      Return self>value.\n",
      " |  \n",
      " |  __hash__(self, /)\n",
      " |      Return hash(self).\n",
      " |  \n",
      " |  __iter__(self, /)\n",
      " |      Implement iter(self).\n",
      " |  \n",
      " |  __le__(self, value, /)\n",
      " |      Return self<=value.\n",
      " |  \n",
      " |  __len__(self, /)\n",
      " |      Return len(self).\n",
      " |  \n",
      " |  __lt__(self, value, /)\n",
      " |      Return self<value.\n",
      " |  \n",
      " |  __mod__(self, value, /)\n",
      " |      Return self%value.\n",
      " |  \n",
      " |  __mul__(self, value, /)\n",
      " |      Return self*value.\n",
      " |  \n",
      " |  __ne__(self, value, /)\n",
      " |      Return self!=value.\n",
      " |  \n",
      " |  __repr__(self, /)\n",
      " |      Return repr(self).\n",
      " |  \n",
      " |  __rmod__(self, value, /)\n",
      " |      Return value%self.\n",
      " |  \n",
      " |  __rmul__(self, value, /)\n",
      " |      Return value*self.\n",
      " |  \n",
      " |  __sizeof__(self, /)\n",
      " |      Return the size of the string in memory, in bytes.\n",
      " |  \n",
      " |  __str__(self, /)\n",
      " |      Return str(self).\n",
      " |  \n",
      " |  capitalize(self, /)\n",
      " |      Return a capitalized version of the string.\n",
      " |      \n",
      " |      More specifically, make the first character have upper case and the rest lower\n",
      " |      case.\n",
      " |  \n",
      " |  casefold(self, /)\n",
      " |      Return a version of the string suitable for caseless comparisons.\n",
      " |  \n",
      " |  center(self, width, fillchar=' ', /)\n",
      " |      Return a centered string of length width.\n",
      " |      \n",
      " |      Padding is done using the specified fill character (default is a space).\n",
      " |  \n",
      " |  count(...)\n",
      " |      S.count(sub[, start[, end]]) -> int\n",
      " |      \n",
      " |      Return the number of non-overlapping occurrences of substring sub in\n",
      " |      string S[start:end].  Optional arguments start and end are\n",
      " |      interpreted as in slice notation.\n",
      " |  \n",
      " |  encode(self, /, encoding='utf-8', errors='strict')\n",
      " |      Encode the string using the codec registered for encoding.\n",
      " |      \n",
      " |      encoding\n",
      " |        The encoding in which to encode the string.\n",
      " |      errors\n",
      " |        The error handling scheme to use for encoding errors.\n",
      " |        The default is 'strict' meaning that encoding errors raise a\n",
      " |        UnicodeEncodeError.  Other possible values are 'ignore', 'replace' and\n",
      " |        'xmlcharrefreplace' as well as any other name registered with\n",
      " |        codecs.register_error that can handle UnicodeEncodeErrors.\n",
      " |  \n",
      " |  endswith(...)\n",
      " |      S.endswith(suffix[, start[, end]]) -> bool\n",
      " |      \n",
      " |      Return True if S ends with the specified suffix, False otherwise.\n",
      " |      With optional start, test S beginning at that position.\n",
      " |      With optional end, stop comparing S at that position.\n",
      " |      suffix can also be a tuple of strings to try.\n",
      " |  \n",
      " |  expandtabs(self, /, tabsize=8)\n",
      " |      Return a copy where all tab characters are expanded using spaces.\n",
      " |      \n",
      " |      If tabsize is not given, a tab size of 8 characters is assumed.\n",
      " |  \n",
      " |  find(...)\n",
      " |      S.find(sub[, start[, end]]) -> int\n",
      " |      \n",
      " |      Return the lowest index in S where substring sub is found,\n",
      " |      such that sub is contained within S[start:end].  Optional\n",
      " |      arguments start and end are interpreted as in slice notation.\n",
      " |      \n",
      " |      Return -1 on failure.\n",
      " |  \n",
      " |  format(...)\n",
      " |      S.format(*args, **kwargs) -> str\n",
      " |      \n",
      " |      Return a formatted version of S, using substitutions from args and kwargs.\n",
      " |      The substitutions are identified by braces ('{' and '}').\n",
      " |  \n",
      " |  format_map(...)\n",
      " |      S.format_map(mapping) -> str\n",
      " |      \n",
      " |      Return a formatted version of S, using substitutions from mapping.\n",
      " |      The substitutions are identified by braces ('{' and '}').\n",
      " |  \n",
      " |  index(...)\n",
      " |      S.index(sub[, start[, end]]) -> int\n",
      " |      \n",
      " |      Return the lowest index in S where substring sub is found, \n",
      " |      such that sub is contained within S[start:end].  Optional\n",
      " |      arguments start and end are interpreted as in slice notation.\n",
      " |      \n",
      " |      Raises ValueError when the substring is not found.\n",
      " |  \n",
      " |  isalnum(self, /)\n",
      " |      Return True if the string is an alpha-numeric string, False otherwise.\n",
      " |      \n",
      " |      A string is alpha-numeric if all characters in the string are alpha-numeric and\n",
      " |      there is at least one character in the string.\n",
      " |  \n",
      " |  isalpha(self, /)\n",
      " |      Return True if the string is an alphabetic string, False otherwise.\n",
      " |      \n",
      " |      A string is alphabetic if all characters in the string are alphabetic and there\n",
      " |      is at least one character in the string.\n",
      " |  \n",
      " |  isascii(self, /)\n",
      " |      Return True if all characters in the string are ASCII, False otherwise.\n",
      " |      \n",
      " |      ASCII characters have code points in the range U+0000-U+007F.\n",
      " |      Empty string is ASCII too.\n",
      " |  \n",
      " |  isdecimal(self, /)\n",
      " |      Return True if the string is a decimal string, False otherwise.\n",
      " |      \n",
      " |      A string is a decimal string if all characters in the string are decimal and\n",
      " |      there is at least one character in the string.\n",
      " |  \n",
      " |  isdigit(self, /)\n",
      " |      Return True if the string is a digit string, False otherwise.\n",
      " |      \n",
      " |      A string is a digit string if all characters in the string are digits and there\n",
      " |      is at least one character in the string.\n",
      " |  \n",
      " |  isidentifier(self, /)\n",
      " |      Return True if the string is a valid Python identifier, False otherwise.\n",
      " |      \n",
      " |      Use keyword.iskeyword() to test for reserved identifiers such as \"def\" and\n",
      " |      \"class\".\n",
      " |  \n",
      " |  islower(self, /)\n",
      " |      Return True if the string is a lowercase string, False otherwise.\n",
      " |      \n",
      " |      A string is lowercase if all cased characters in the string are lowercase and\n",
      " |      there is at least one cased character in the string.\n",
      " |  \n",
      " |  isnumeric(self, /)\n",
      " |      Return True if the string is a numeric string, False otherwise.\n",
      " |      \n",
      " |      A string is numeric if all characters in the string are numeric and there is at\n",
      " |      least one character in the string.\n",
      " |  \n",
      " |  isprintable(self, /)\n",
      " |      Return True if the string is printable, False otherwise.\n",
      " |      \n",
      " |      A string is printable if all of its characters are considered printable in\n",
      " |      repr() or if it is empty.\n",
      " |  \n",
      " |  isspace(self, /)\n",
      " |      Return True if the string is a whitespace string, False otherwise.\n",
      " |      \n",
      " |      A string is whitespace if all characters in the string are whitespace and there\n",
      " |      is at least one character in the string.\n",
      " |  \n",
      " |  istitle(self, /)\n",
      " |      Return True if the string is a title-cased string, False otherwise.\n",
      " |      \n",
      " |      In a title-cased string, upper- and title-case characters may only\n",
      " |      follow uncased characters and lowercase characters only cased ones.\n",
      " |  \n",
      " |  isupper(self, /)\n",
      " |      Return True if the string is an uppercase string, False otherwise.\n",
      " |      \n",
      " |      A string is uppercase if all cased characters in the string are uppercase and\n",
      " |      there is at least one cased character in the string.\n",
      " |  \n",
      " |  join(self, iterable, /)\n",
      " |      Concatenate any number of strings.\n",
      " |      \n",
      " |      The string whose method is called is inserted in between each given string.\n",
      " |      The result is returned as a new string.\n",
      " |      \n",
      " |      Example: '.'.join(['ab', 'pq', 'rs']) -> 'ab.pq.rs'\n",
      " |  \n",
      " |  ljust(self, width, fillchar=' ', /)\n",
      " |      Return a left-justified string of length width.\n",
      " |      \n",
      " |      Padding is done using the specified fill character (default is a space).\n",
      " |  \n",
      " |  lower(self, /)\n",
      " |      Return a copy of the string converted to lowercase.\n",
      " |  \n",
      " |  lstrip(self, chars=None, /)\n",
      " |      Return a copy of the string with leading whitespace removed.\n",
      " |      \n",
      " |      If chars is given and not None, remove characters in chars instead.\n",
      " |  \n",
      " |  partition(self, sep, /)\n",
      " |      Partition the string into three parts using the given separator.\n",
      " |      \n",
      " |      This will search for the separator in the string.  If the separator is found,\n",
      " |      returns a 3-tuple containing the part before the separator, the separator\n",
      " |      itself, and the part after it.\n",
      " |      \n",
      " |      If the separator is not found, returns a 3-tuple containing the original string\n",
      " |      and two empty strings.\n",
      " |  \n",
      " |  replace(self, old, new, count=-1, /)\n",
      " |      Return a copy with all occurrences of substring old replaced by new.\n",
      " |      \n",
      " |        count\n",
      " |          Maximum number of occurrences to replace.\n",
      " |          -1 (the default value) means replace all occurrences.\n",
      " |      \n",
      " |      If the optional argument count is given, only the first count occurrences are\n",
      " |      replaced.\n",
      " |  \n",
      " |  rfind(...)\n",
      " |      S.rfind(sub[, start[, end]]) -> int\n",
      " |      \n",
      " |      Return the highest index in S where substring sub is found,\n",
      " |      such that sub is contained within S[start:end].  Optional\n",
      " |      arguments start and end are interpreted as in slice notation.\n",
      " |      \n",
      " |      Return -1 on failure.\n",
      " |  \n",
      " |  rindex(...)\n",
      " |      S.rindex(sub[, start[, end]]) -> int\n",
      " |      \n",
      " |      Return the highest index in S where substring sub is found,\n",
      " |      such that sub is contained within S[start:end].  Optional\n",
      " |      arguments start and end are interpreted as in slice notation.\n",
      " |      \n",
      " |      Raises ValueError when the substring is not found.\n",
      " |  \n",
      " |  rjust(self, width, fillchar=' ', /)\n",
      " |      Return a right-justified string of length width.\n",
      " |      \n",
      " |      Padding is done using the specified fill character (default is a space).\n",
      " |  \n",
      " |  rpartition(self, sep, /)\n",
      " |      Partition the string into three parts using the given separator.\n",
      " |      \n",
      " |      This will search for the separator in the string, starting at the end. If\n",
      " |      the separator is found, returns a 3-tuple containing the part before the\n",
      " |      separator, the separator itself, and the part after it.\n",
      " |      \n",
      " |      If the separator is not found, returns a 3-tuple containing two empty strings\n",
      " |      and the original string.\n",
      " |  \n",
      " |  rsplit(self, /, sep=None, maxsplit=-1)\n",
      " |      Return a list of the words in the string, using sep as the delimiter string.\n",
      " |      \n",
      " |        sep\n",
      " |          The delimiter according which to split the string.\n",
      " |          None (the default value) means split according to any whitespace,\n",
      " |          and discard empty strings from the result.\n",
      " |        maxsplit\n",
      " |          Maximum number of splits to do.\n",
      " |          -1 (the default value) means no limit.\n",
      " |      \n",
      " |      Splits are done starting at the end of the string and working to the front.\n",
      " |  \n",
      " |  rstrip(self, chars=None, /)\n",
      " |      Return a copy of the string with trailing whitespace removed.\n",
      " |      \n",
      " |      If chars is given and not None, remove characters in chars instead.\n",
      " |  \n",
      " |  split(self, /, sep=None, maxsplit=-1)\n",
      " |      Return a list of the words in the string, using sep as the delimiter string.\n",
      " |      \n",
      " |      sep\n",
      " |        The delimiter according which to split the string.\n",
      " |        None (the default value) means split according to any whitespace,\n",
      " |        and discard empty strings from the result.\n",
      " |      maxsplit\n",
      " |        Maximum number of splits to do.\n",
      " |        -1 (the default value) means no limit.\n",
      " |  \n",
      " |  splitlines(self, /, keepends=False)\n",
      " |      Return a list of the lines in the string, breaking at line boundaries.\n",
      " |      \n",
      " |      Line breaks are not included in the resulting list unless keepends is given and\n",
      " |      true.\n",
      " |  \n",
      " |  startswith(...)\n",
      " |      S.startswith(prefix[, start[, end]]) -> bool\n",
      " |      \n",
      " |      Return True if S starts with the specified prefix, False otherwise.\n",
      " |      With optional start, test S beginning at that position.\n",
      " |      With optional end, stop comparing S at that position.\n",
      " |      prefix can also be a tuple of strings to try.\n",
      " |  \n",
      " |  strip(self, chars=None, /)\n",
      " |      Return a copy of the string with leading and trailing whitespace remove.\n",
      " |      \n",
      " |      If chars is given and not None, remove characters in chars instead.\n",
      " |  \n",
      " |  swapcase(self, /)\n",
      " |      Convert uppercase characters to lowercase and lowercase characters to uppercase.\n",
      " |  \n",
      " |  title(self, /)\n",
      " |      Return a version of the string where each word is titlecased.\n",
      " |      \n",
      " |      More specifically, words start with uppercased characters and all remaining\n",
      " |      cased characters have lower case.\n",
      " |  \n",
      " |  translate(self, table, /)\n",
      " |      Replace each character in the string using the given translation table.\n",
      " |      \n",
      " |        table\n",
      " |          Translation table, which must be a mapping of Unicode ordinals to\n",
      " |          Unicode ordinals, strings, or None.\n",
      " |      \n",
      " |      The table must implement lookup/indexing via __getitem__, for instance a\n",
      " |      dictionary or list.  If this operation raises LookupError, the character is\n",
      " |      left untouched.  Characters mapped to None are deleted.\n",
      " |  \n",
      " |  upper(self, /)\n",
      " |      Return a copy of the string converted to uppercase.\n",
      " |  \n",
      " |  zfill(self, width, /)\n",
      " |      Pad a numeric string with zeros on the left, to fill a field of the given width.\n",
      " |      \n",
      " |      The string is never truncated.\n",
      " |  \n",
      " |  ----------------------------------------------------------------------\n",
      " |  Static methods defined here:\n",
      " |  \n",
      " |  __new__(*args, **kwargs) from builtins.type\n",
      " |      Create and return a new object.  See help(type) for accurate signature.\n",
      " |  \n",
      " |  maketrans(x, y=None, z=None, /)\n",
      " |      Return a translation table usable for str.translate().\n",
      " |      \n",
      " |      If there is only one argument, it must be a dictionary mapping Unicode\n",
      " |      ordinals (integers) or characters to Unicode ordinals, strings or None.\n",
      " |      Character keys will be then converted to ordinals.\n",
      " |      If there are two arguments, they must be strings of equal length, and\n",
      " |      in the resulting dictionary, each character in x will be mapped to the\n",
      " |      character at the same position in y. If there is a third argument, it\n",
      " |      must be a string, whose characters will be mapped to None in the result.\n",
      "\n"
     ]
    }
   ],
   "source": [
    "help(str)"
   ]
  },
  {
   "cell_type": "markdown",
   "metadata": {
    "slideshow": {
     "slide_type": "subslide"
    }
   },
   "source": [
    "## 5.3 List (`list`)\n",
    "\n",
    "For collections of things"
   ]
  },
  {
   "cell_type": "code",
   "execution_count": 11,
   "metadata": {
    "slideshow": {
     "slide_type": "-"
    }
   },
   "outputs": [
    {
     "name": "stdout",
     "output_type": "stream",
     "text": [
      "[1, 2.0, 'c'] <class 'list'>\n",
      "Length of list is :  3\n"
     ]
    }
   ],
   "source": [
    "example_list = [1, 2.0, \"c\"]  # Elements of don't have to be same type\n",
    "print(example_list, type(example_list))\n",
    "print(\"Length of list is : \", len(example_list))  # Note that `len` returns `int`"
   ]
  },
  {
   "cell_type": "code",
   "execution_count": 14,
   "metadata": {
    "slideshow": {
     "slide_type": "-"
    }
   },
   "outputs": [
    {
     "name": "stdout",
     "output_type": "stream",
     "text": [
      "Example list is : [1, 2.0, 'c', 421323, 421323, 421323]\n",
      "Example list 2 is : [1, 2.0, 'c', 421323, 421323, 421323, 1, 1, 1, 1, 1, 1]\n",
      "Help on class list in module builtins:\n",
      "\n",
      "class list(object)\n",
      " |  list() -> new empty list\n",
      " |  list(iterable) -> new list initialized from iterable's items\n",
      " |  \n",
      " |  Methods defined here:\n",
      " |  \n",
      " |  __add__(self, value, /)\n",
      " |      Return self+value.\n",
      " |  \n",
      " |  __contains__(self, key, /)\n",
      " |      Return key in self.\n",
      " |  \n",
      " |  __delitem__(self, key, /)\n",
      " |      Delete self[key].\n",
      " |  \n",
      " |  __eq__(self, value, /)\n",
      " |      Return self==value.\n",
      " |  \n",
      " |  __ge__(self, value, /)\n",
      " |      Return self>=value.\n",
      " |  \n",
      " |  __getattribute__(self, name, /)\n",
      " |      Return getattr(self, name).\n",
      " |  \n",
      " |  __getitem__(...)\n",
      " |      x.__getitem__(y) <==> x[y]\n",
      " |  \n",
      " |  __gt__(self, value, /)\n",
      " |      Return self>value.\n",
      " |  \n",
      " |  __iadd__(self, value, /)\n",
      " |      Implement self+=value.\n",
      " |  \n",
      " |  __imul__(self, value, /)\n",
      " |      Implement self*=value.\n",
      " |  \n",
      " |  __init__(self, /, *args, **kwargs)\n",
      " |      Initialize self.  See help(type(self)) for accurate signature.\n",
      " |  \n",
      " |  __iter__(self, /)\n",
      " |      Implement iter(self).\n",
      " |  \n",
      " |  __le__(self, value, /)\n",
      " |      Return self<=value.\n",
      " |  \n",
      " |  __len__(self, /)\n",
      " |      Return len(self).\n",
      " |  \n",
      " |  __lt__(self, value, /)\n",
      " |      Return self<value.\n",
      " |  \n",
      " |  __mul__(self, value, /)\n",
      " |      Return self*value.\n",
      " |  \n",
      " |  __ne__(self, value, /)\n",
      " |      Return self!=value.\n",
      " |  \n",
      " |  __new__(*args, **kwargs) from builtins.type\n",
      " |      Create and return a new object.  See help(type) for accurate signature.\n",
      " |  \n",
      " |  __repr__(self, /)\n",
      " |      Return repr(self).\n",
      " |  \n",
      " |  __reversed__(...)\n",
      " |      L.__reversed__() -- return a reverse iterator over the list\n",
      " |  \n",
      " |  __rmul__(self, value, /)\n",
      " |      Return value*self.\n",
      " |  \n",
      " |  __setitem__(self, key, value, /)\n",
      " |      Set self[key] to value.\n",
      " |  \n",
      " |  __sizeof__(...)\n",
      " |      L.__sizeof__() -- size of L in memory, in bytes\n",
      " |  \n",
      " |  append(...)\n",
      " |      L.append(object) -> None -- append object to end\n",
      " |  \n",
      " |  clear(...)\n",
      " |      L.clear() -> None -- remove all items from L\n",
      " |  \n",
      " |  copy(...)\n",
      " |      L.copy() -> list -- a shallow copy of L\n",
      " |  \n",
      " |  count(...)\n",
      " |      L.count(value) -> integer -- return number of occurrences of value\n",
      " |  \n",
      " |  extend(...)\n",
      " |      L.extend(iterable) -> None -- extend list by appending elements from the iterable\n",
      " |  \n",
      " |  index(...)\n",
      " |      L.index(value, [start, [stop]]) -> integer -- return first index of value.\n",
      " |      Raises ValueError if the value is not present.\n",
      " |  \n",
      " |  insert(...)\n",
      " |      L.insert(index, object) -- insert object before index\n",
      " |  \n",
      " |  pop(...)\n",
      " |      L.pop([index]) -> item -- remove and return item at index (default last).\n",
      " |      Raises IndexError if list is empty or index is out of range.\n",
      " |  \n",
      " |  remove(...)\n",
      " |      L.remove(value) -> None -- remove first occurrence of value.\n",
      " |      Raises ValueError if the value is not present.\n",
      " |  \n",
      " |  reverse(...)\n",
      " |      L.reverse() -- reverse *IN PLACE*\n",
      " |  \n",
      " |  sort(...)\n",
      " |      L.sort(key=None, reverse=False) -> None -- stable sort *IN PLACE*\n",
      " |  \n",
      " |  ----------------------------------------------------------------------\n",
      " |  Data and other attributes defined here:\n",
      " |  \n",
      " |  __hash__ = None\n",
      "\n",
      "7\n"
     ]
    }
   ],
   "source": [
    "example_list.append(421323)\n",
    "example_list2 = example_list + [1,1,1,1,1,1]\n",
    "print(f\"Example list is : {example_list}\")\n",
    "print(f\"Example list 2 is : {example_list2}\")\n",
    "help(list)\n",
    "print(example_list2.count(1))"
   ]
  },
  {
   "cell_type": "markdown",
   "metadata": {
    "slideshow": {
     "slide_type": "subslide"
    }
   },
   "source": [
    "### Exercise\n",
    "\n",
    "Count the number of `1`s in the list `example_list2` programmatically. (Hint: use `help(list)`)"
   ]
  },
  {
   "cell_type": "code",
   "execution_count": 18,
   "metadata": {
    "slideshow": {
     "slide_type": "-"
    },
    "tags": [
     "raises-exception"
    ]
   },
   "outputs": [
    {
     "data": {
      "text/plain": [
       "False"
      ]
     },
     "execution_count": 18,
     "metadata": {},
     "output_type": "execute_result"
    }
   ],
   "source": [
    "y = 2  # Replace hardcoded value\n",
    "#assert(y - 7 == 0)\n",
    "y-7==0"
   ]
  },
  {
   "cell_type": "markdown",
   "metadata": {
    "slideshow": {
     "slide_type": "subslide"
    }
   },
   "source": [
    "## 5.4 Boolean (`bool`)\n",
    "\n",
    "Either `True` or `False`"
   ]
  },
  {
   "cell_type": "code",
   "execution_count": 21,
   "metadata": {
    "slideshow": {
     "slide_type": "-"
    }
   },
   "outputs": [
    {
     "name": "stdout",
     "output_type": "stream",
     "text": [
      "True\n",
      "Type of an equality check is :  <class 'bool'>\n"
     ]
    }
   ],
   "source": [
    "print(2 == 2.0)\n",
    "print(\"Type of an equality check is : \", type(2==2.0))"
   ]
  },
  {
   "cell_type": "code",
   "execution_count": 24,
   "metadata": {
    "slideshow": {
     "slide_type": "-"
    }
   },
   "outputs": [
    {
     "name": "stdout",
     "output_type": "stream",
     "text": [
      "False\n",
      "Converting a False bool to an integer :  0\n",
      "[1, 2, 'v']\n"
     ]
    }
   ],
   "source": [
    "example_list = [1,2,3]\n",
    "print(example_list[2] == \"v\")\n",
    "print(\"Converting a False bool to an integer : \", int(example_list[2] == \"v\"))\n",
    "example_list[2]='v'\n",
    "print(example_list)"
   ]
  },
  {
   "cell_type": "markdown",
   "metadata": {
    "slideshow": {
     "slide_type": "fragment"
    }
   },
   "source": [
    "### 5.4.1 Boolean operators (`and`, `or`)\n",
    "\n",
    "Readability!! No `||` or `&`"
   ]
  },
  {
   "cell_type": "code",
   "execution_count": 20,
   "metadata": {
    "slideshow": {
     "slide_type": "-"
    }
   },
   "outputs": [
    {
     "name": "stdout",
     "output_type": "stream",
     "text": [
      "True\n",
      "True\n"
     ]
    }
   ],
   "source": [
    "print((example_list[1] == 2) and (example_list[2] == 3))\n",
    "print((example_list[1] == 2) or (example_list[2] == 3321))"
   ]
  },
  {
   "cell_type": "markdown",
   "metadata": {
    "slideshow": {
     "slide_type": "subslide"
    }
   },
   "source": [
    "## 5.5 Dictionary (`dict`)\n",
    "\n",
    "### Key-value pairs:  Like a 2 column table\n",
    "- First column - `key`, should be unique\n",
    "- Second column - `value`, can be (almost) any datatype"
   ]
  },
  {
   "cell_type": "code",
   "execution_count": 27,
   "metadata": {
    "slideshow": {
     "slide_type": "-"
    }
   },
   "outputs": [
    {
     "name": "stdout",
     "output_type": "stream",
     "text": [
      "one  and  3.1417\n",
      "{1: 'one', 2: 'two', 'pi': 3.1417, 'e': 2.73}\n"
     ]
    }
   ],
   "source": [
    "example_dict = {1:\"one\", 2:\"two\", \"pi\":3.1417}  # Create a dictionary\n",
    "example_dict[\"e\"] = 2.73 # Add elements\n",
    "print(example_dict[1], \" and \", example_dict[\"pi\"])\n",
    "print(example_dict)"
   ]
  },
  {
   "cell_type": "markdown",
   "metadata": {},
   "source": [
    "#### Get all keys with `dict.keys()`, values with `dict.values()`"
   ]
  },
  {
   "cell_type": "code",
   "execution_count": 29,
   "metadata": {
    "slideshow": {
     "slide_type": "-"
    }
   },
   "outputs": [
    {
     "name": "stdout",
     "output_type": "stream",
     "text": [
      "Keys are :  dict_keys([1, 2, 'pi', 'e']) <class 'dict_keys'>\n",
      "Values are :  dict_values(['one', 'two', 3.1417, 2.73]) <class 'dict_values'>\n"
     ]
    },
    {
     "data": {
      "text/plain": [
       "'two'"
      ]
     },
     "execution_count": 29,
     "metadata": {},
     "output_type": "execute_result"
    }
   ],
   "source": [
    "print(\"Keys are : \", example_dict.keys(), type(example_dict.keys()))\n",
    "print(\"Values are : \", example_dict.values(), type(example_dict.values()))\n",
    "example_dict[example_list[1]]"
   ]
  },
  {
   "cell_type": "markdown",
   "metadata": {
    "slideshow": {
     "slide_type": "subslide"
    }
   },
   "source": [
    "### Exercise\n",
    "Using the 2nd element of `example_list` as the key, retrieve the value stored in `example_dict`."
   ]
  },
  {
   "cell_type": "code",
   "execution_count": 30,
   "metadata": {
    "tags": [
     "raises-exception"
    ]
   },
   "outputs": [
    {
     "ename": "AssertionError",
     "evalue": "",
     "output_type": "error",
     "traceback": [
      "\u001b[1;31m---------------------------------------------------------------------------\u001b[0m",
      "\u001b[1;31mAssertionError\u001b[0m                            Traceback (most recent call last)",
      "\u001b[1;32m<ipython-input-30-7fa9d089b962>\u001b[0m in \u001b[0;36m<module>\u001b[1;34m()\u001b[0m\n\u001b[0;32m      1\u001b[0m \u001b[0mexample_list\u001b[0m \u001b[1;33m=\u001b[0m \u001b[1;33m[\u001b[0m\u001b[1;34m\"pi\"\u001b[0m\u001b[1;33m,\u001b[0m \u001b[1;34m\"e\"\u001b[0m\u001b[1;33m,\u001b[0m \u001b[1;34m\"c\"\u001b[0m\u001b[1;33m,\u001b[0m \u001b[1;34m\"G\"\u001b[0m\u001b[1;33m]\u001b[0m\u001b[1;33m\u001b[0m\u001b[0m\n\u001b[0;32m      2\u001b[0m \u001b[0mrequired_value\u001b[0m \u001b[1;33m=\u001b[0m \u001b[1;36m0\u001b[0m  \u001b[1;31m# Replace hardcoded value\u001b[0m\u001b[1;33m\u001b[0m\u001b[0m\n\u001b[1;32m----> 3\u001b[1;33m \u001b[1;32massert\u001b[0m\u001b[1;33m(\u001b[0m\u001b[0mrequired_value\u001b[0m\u001b[1;33m-\u001b[0m\u001b[1;36m3.1417\u001b[0m \u001b[1;33m==\u001b[0m \u001b[1;36m0\u001b[0m\u001b[1;33m)\u001b[0m\u001b[1;33m\u001b[0m\u001b[0m\n\u001b[0m",
      "\u001b[1;31mAssertionError\u001b[0m: "
     ]
    }
   ],
   "source": [
    "example_list = [\"pi\", \"e\", \"c\", \"G\"]\n",
    "required_value = 0  # Replace hardcoded value\n",
    "assert(required_value-3.1417 == 0)"
   ]
  },
  {
   "cell_type": "markdown",
   "metadata": {
    "slideshow": {
     "slide_type": "subslide"
    }
   },
   "source": [
    "## 5.6 Flow control statements\n",
    "\n",
    "Syntax uses white spaces, no excessive brackets etc for readability\n",
    "\n",
    "**DO NOT MIX TABS AND SPACES**\n",
    "\n",
    "### 5.6.1 `if-else`\n"
   ]
  },
  {
   "cell_type": "code",
   "execution_count": 31,
   "metadata": {
    "slideshow": {
     "slide_type": "-"
    }
   },
   "outputs": [
    {
     "name": "stdout",
     "output_type": "stream",
     "text": [
      "x was 1!\n"
     ]
    }
   ],
   "source": [
    "x = 1\n",
    "if x == 1:\n",
    "    print(\"x was 1!\")\n",
    "elif (x == \"cat\"):\n",
    "    print(\"meow\")\n",
    "else:\n",
    "    print(\"output of else\")"
   ]
  },
  {
   "cell_type": "markdown",
   "metadata": {
    "slideshow": {
     "slide_type": "subslide"
    }
   },
   "source": [
    "### 5.6.2 `for` loop\n",
    "\n",
    "- `range(n)` gives integer from **[0,1,...,n)**\n",
    "- Can also specify non-zero start points and jump size: how? Try `help(range)`!"
   ]
  },
  {
   "cell_type": "code",
   "execution_count": 25,
   "metadata": {
    "slideshow": {
     "slide_type": "-"
    }
   },
   "outputs": [
    {
     "name": "stdout",
     "output_type": "stream",
     "text": [
      "Loop index is :  0\n",
      "Loop index is :  1\n",
      "Loop index is :  2\n"
     ]
    }
   ],
   "source": [
    "for loop_index in range(3):\n",
    "    print(\"Loop index is : \", loop_index)"
   ]
  },
  {
   "cell_type": "markdown",
   "metadata": {
    "slideshow": {
     "slide_type": "fragment"
    }
   },
   "source": [
    "- Can be used to move through a list"
   ]
  },
  {
   "cell_type": "code",
   "execution_count": 32,
   "metadata": {
    "slideshow": {
     "slide_type": "-"
    }
   },
   "outputs": [
    {
     "name": "stdout",
     "output_type": "stream",
     "text": [
      "Item is :  a\n",
      "Item is :  b\n",
      "Item is :  c\n",
      "------------\n"
     ]
    }
   ],
   "source": [
    "example_list = [\"a\", \"b\", \"c\"]\n",
    "for item in example_list:\n",
    "    print(\"Item is : \", item)\n",
    "print(\"------------\")"
   ]
  },
  {
   "cell_type": "markdown",
   "metadata": {
    "slideshow": {
     "slide_type": "subslide"
    }
   },
   "source": [
    "### Exercise\n",
    "\n",
    "Make a two lists: one of the odd numbers and one of the even numbers with each number satisfying $2\\le n \\le 9$. Use `for` and `list.append`."
   ]
  },
  {
   "cell_type": "code",
   "execution_count": 34,
   "metadata": {
    "scrolled": true,
    "tags": [
     "raises-exception"
    ]
   },
   "outputs": [
    {
     "ename": "AssertionError",
     "evalue": "",
     "output_type": "error",
     "traceback": [
      "\u001b[1;31m---------------------------------------------------------------------------\u001b[0m",
      "\u001b[1;31mAssertionError\u001b[0m                            Traceback (most recent call last)",
      "\u001b[1;32m<ipython-input-34-c752d5a8a90b>\u001b[0m in \u001b[0;36m<module>\u001b[1;34m()\u001b[0m\n\u001b[0;32m      2\u001b[0m \u001b[0meven\u001b[0m \u001b[1;33m=\u001b[0m \u001b[1;33m[\u001b[0m\u001b[1;33m]\u001b[0m\u001b[1;33m\u001b[0m\u001b[0m\n\u001b[0;32m      3\u001b[0m \u001b[1;31m# insert loop here\u001b[0m\u001b[1;33m\u001b[0m\u001b[1;33m\u001b[0m\u001b[0m\n\u001b[1;32m----> 4\u001b[1;33m \u001b[1;32massert\u001b[0m\u001b[1;33m(\u001b[0m\u001b[0modd\u001b[0m \u001b[1;33m==\u001b[0m \u001b[1;33m[\u001b[0m\u001b[1;36m3\u001b[0m\u001b[1;33m,\u001b[0m\u001b[1;36m5\u001b[0m\u001b[1;33m,\u001b[0m\u001b[1;36m7\u001b[0m\u001b[1;33m,\u001b[0m\u001b[1;36m9\u001b[0m\u001b[1;33m]\u001b[0m\u001b[1;33m)\u001b[0m\u001b[1;33m\u001b[0m\u001b[0m\n\u001b[0m\u001b[0;32m      5\u001b[0m \u001b[1;32massert\u001b[0m\u001b[1;33m(\u001b[0m\u001b[0meven\u001b[0m \u001b[1;33m==\u001b[0m \u001b[1;33m[\u001b[0m\u001b[1;36m2\u001b[0m\u001b[1;33m,\u001b[0m\u001b[1;36m4\u001b[0m\u001b[1;33m,\u001b[0m\u001b[1;36m6\u001b[0m\u001b[1;33m,\u001b[0m\u001b[1;36m8\u001b[0m\u001b[1;33m]\u001b[0m\u001b[1;33m)\u001b[0m\u001b[1;33m\u001b[0m\u001b[0m\n",
      "\u001b[1;31mAssertionError\u001b[0m: "
     ]
    }
   ],
   "source": [
    "odd = []\n",
    "even = []\n",
    "# insert loop here\n",
    "assert(odd == [3,5,7,9])\n",
    "assert(even == [2,4,6,8])"
   ]
  },
  {
   "cell_type": "markdown",
   "metadata": {
    "slideshow": {
     "slide_type": "subslide"
    }
   },
   "source": [
    "### 5.6.3 `break` and `continue`\n",
    "\n",
    "- `break` skips the reaminder of the current iteration + all future iterations\n",
    "- `continue` skips the remainder of the current iteration"
   ]
  },
  {
   "cell_type": "code",
   "execution_count": 36,
   "metadata": {
    "slideshow": {
     "slide_type": "-"
    }
   },
   "outputs": [
    {
     "name": "stdout",
     "output_type": "stream",
     "text": [
      "ind = 0, continuing\n",
      "ind = 1, continuing\n",
      "ind = 2, doing nothing\n",
      "ind = 3, doing nothing\n",
      "ind = 4, breaking\n",
      "Loop has ended\n"
     ]
    }
   ],
   "source": [
    "for ind in range(10):\n",
    "    if ind < 2:\n",
    "        print(f\"ind = {ind}, continuing\")\n",
    "        continue\n",
    "    elif ind > 3:\n",
    "        print(f\"ind = {ind}, breaking\")\n",
    "        break\n",
    "    print(f\"ind = {ind}, doing nothing\")\n",
    "print(\"Loop has ended\")"
   ]
  },
  {
   "cell_type": "markdown",
   "metadata": {
    "slideshow": {
     "slide_type": "slide"
    }
   },
   "source": [
    "# 6 Functions"
   ]
  },
  {
   "cell_type": "code",
   "execution_count": 29,
   "metadata": {
    "slideshow": {
     "slide_type": "-"
    }
   },
   "outputs": [
    {
     "name": "stdout",
     "output_type": "stream",
     "text": [
      "5 <class 'function'> <function add at 0x000002AB3F719B70>\n",
      "Changing argument order :  5\n",
      "Calling add function with lists :  [2, 3, 6, 7]\n"
     ]
    }
   ],
   "source": [
    "def add(a, b):\n",
    "    y = a + b\n",
    "    return y\n",
    "\n",
    "print(add(2, 3), type(add), add)\n",
    "print(\"Changing argument order : \", add(b=3, a=2))\n",
    "print(\"Calling add function with lists : \", add([2,3], [6,7]))"
   ]
  },
  {
   "cell_type": "markdown",
   "metadata": {
    "slideshow": {
     "slide_type": "fragment"
    }
   },
   "source": [
    "## 6.1 Default arguments"
   ]
  },
  {
   "cell_type": "code",
   "execution_count": 30,
   "metadata": {
    "slideshow": {
     "slide_type": "-"
    }
   },
   "outputs": [
    {
     "name": "stdout",
     "output_type": "stream",
     "text": [
      "Specifying both arguments :  4\n",
      "Specifying only one argument :  7\n",
      "Specifying only one argument with keyword :  7\n"
     ]
    }
   ],
   "source": [
    "def sub(a, b=2):\n",
    "    return a - b\n",
    "print(\"Specifying both arguments : \", sub(11, 7))\n",
    "print(\"Specifying only one argument : \", sub(9))\n",
    "print(\"Specifying only one argument with keyword : \", sub(a=9))\n",
    "# Uncomment the following lines and try\n",
    "# def sub2(a=2, b):\n",
    "#     return a - b"
   ]
  },
  {
   "cell_type": "markdown",
   "metadata": {
    "slideshow": {
     "slide_type": "subslide"
    }
   },
   "source": [
    "### Exercise\n",
    "\n",
    "Write a function `prodlist` that accepts a list and returns the product of all the elements in that list. You can assume that the list has `float` or `int` types.\n"
   ]
  },
  {
   "cell_type": "code",
   "execution_count": 37,
   "metadata": {
    "tags": [
     "raises-exception"
    ]
   },
   "outputs": [
    {
     "ename": "NameError",
     "evalue": "name 'prodlist' is not defined",
     "output_type": "error",
     "traceback": [
      "\u001b[1;31m---------------------------------------------------------------------------\u001b[0m",
      "\u001b[1;31mNameError\u001b[0m                                 Traceback (most recent call last)",
      "\u001b[1;32m<ipython-input-37-275c613e300d>\u001b[0m in \u001b[0;36m<module>\u001b[1;34m()\u001b[0m\n\u001b[1;32m----> 1\u001b[1;33m \u001b[1;32massert\u001b[0m \u001b[1;33m(\u001b[0m\u001b[0mprodlist\u001b[0m\u001b[1;33m(\u001b[0m\u001b[1;33m[\u001b[0m\u001b[1;36m1\u001b[0m\u001b[1;33m,\u001b[0m\u001b[1;36m2\u001b[0m\u001b[1;33m,\u001b[0m\u001b[1;36m3\u001b[0m\u001b[1;33m]\u001b[0m \u001b[1;33m==\u001b[0m \u001b[1;36m6\u001b[0m\u001b[1;33m)\u001b[0m\u001b[1;33m)\u001b[0m\u001b[1;33m\u001b[0m\u001b[0m\n\u001b[0m",
      "\u001b[1;31mNameError\u001b[0m: name 'prodlist' is not defined"
     ]
    }
   ],
   "source": [
    "assert (prodlist([1,2,3] == 6))"
   ]
  },
  {
   "cell_type": "markdown",
   "metadata": {
    "slideshow": {
     "slide_type": "subslide"
    }
   },
   "source": [
    "## 6.2 Return types can be anything"
   ]
  },
  {
   "cell_type": "code",
   "execution_count": 38,
   "metadata": {},
   "outputs": [
    {
     "name": "stdout",
     "output_type": "stream",
     "text": [
      "Calling with argument 3!\n",
      "Returned value is :  <built-in function sin>\n",
      "Returned type is :  <class 'builtin_function_or_method'>\n"
     ]
    }
   ],
   "source": [
    "import math\n",
    "\n",
    "def my_func(x):\n",
    "    if x == 1:\n",
    "        return \"one\"\n",
    "    elif x == 2:\n",
    "        return [2, \"two\"]\n",
    "    elif x == 3:\n",
    "        return  math.sin\n",
    "\n",
    "print(\"Calling with argument 3!\")\n",
    "return_value = my_func(3)\n",
    "print(\"Returned value is : \", return_value)\n",
    "print(\"Returned type is : \", type(return_value))"
   ]
  },
  {
   "cell_type": "markdown",
   "metadata": {
    "slideshow": {
     "slide_type": "slide"
    }
   },
   "source": [
    "# 7.1 Basic plotting\n",
    "\n",
    "- `matplotlib` is the plotting library\n",
    "\n",
    "First define the data used for plotting"
   ]
  },
  {
   "cell_type": "code",
   "execution_count": 40,
   "metadata": {
    "collapsed": true,
    "slideshow": {
     "slide_type": "-"
    }
   },
   "outputs": [],
   "source": [
    "Tc = list(range(0,100,5))\n",
    "Tf, Tf_incorrect = [], []\n",
    "for ind in range(len(Tc)):\n",
    "    this_Tf = 9/5 * Tc[ind] + 32\n",
    "    Tf.append(this_Tf)\n",
    "    Tf_incorrect.append(this_Tf*1.15)"
   ]
  },
  {
   "cell_type": "markdown",
   "metadata": {
    "slideshow": {
     "slide_type": "subslide"
    }
   },
   "source": [
    "## 7.1.1 Line plots"
   ]
  },
  {
   "cell_type": "code",
   "execution_count": 41,
   "metadata": {
    "slideshow": {
     "slide_type": "-"
    }
   },
   "outputs": [
    {
     "data": {
      "image/png": "[encoded data removed]",
      "text/plain": [
       "<matplotlib.figure.Figure at 0x23eab460d68>"
      ]
     },
     "metadata": {},
     "output_type": "display_data"
    }
   ],
   "source": [
    "import matplotlib.pyplot as plt\n",
    "\n",
    "# Call plt.plot with x and y arguments. Also provide `color`, `marker`, `linestyle` and `label`.\n",
    "# `label` shows up in legend`\n",
    "plt.plot(Tc, Tf, color=\"green\", marker=\"o\", linestyle= \":\", label=\"Correct\")\n",
    "plt.plot(Tc, Tf_incorrect, \"rx\", label=\"Incorrect\")  # plot the incorrect Fahrenheit\n",
    "plt.xlabel(\"Temperature ($^o$C)\")  # set x label\n",
    "plt.ylabel(\"Temperature ($^o$F)\")  # set y label\n",
    "plt.legend()  # Make the legend appear\n",
    "plt.show()"
   ]
  },
  {
   "cell_type": "markdown",
   "metadata": {
    "slideshow": {
     "slide_type": "subslide"
    }
   },
   "source": [
    "## 7.1.2 Histograms"
   ]
  },
  {
   "cell_type": "code",
   "execution_count": 35,
   "metadata": {
    "slideshow": {
     "slide_type": "-"
    }
   },
   "outputs": [
    {
     "data": {
      "image/png": "[encoded data removed]",
      "text/plain": [
       "<Figure size 432x288 with 1 Axes>"
      ]
     },
     "metadata": {
      "needs_background": "light"
     },
     "output_type": "display_data"
    }
   ],
   "source": [
    "import random\n",
    "x1 = []\n",
    "x2 = []\n",
    "random.seed(10)  # for reproducibility\n",
    "for ind in range(1000):\n",
    "    x1.append(random.random())\n",
    "    x2.append(random.normalvariate(mu=1, sigma=1))\n",
    "plt.hist(x1);\n",
    "plt.hist(x2, alpha=0.5);"
   ]
  },
  {
   "cell_type": "markdown",
   "metadata": {
    "slideshow": {
     "slide_type": "slide"
    }
   },
   "source": [
    "# 8.1  `python` for `MATLAB` users\n",
    "\n",
    "\n",
    "## Counting starts with 0 in `python`, 1 in `MATLAB`\n",
    "\n",
    "## `numpy` - basic matrix functionality\n",
    "\n",
    "https://docs.scipy.org/doc/numpy/user/numpy-for-matlab-users.html\n",
    "\n",
    "## `scipy` - advanced math functions, optimization, differential equations"
   ]
  },
  {
   "cell_type": "code",
   "execution_count": 36,
   "metadata": {
    "slideshow": {
     "slide_type": "-"
    }
   },
   "outputs": [
    {
     "name": "stdout",
     "output_type": "stream",
     "text": [
      "[[0. 0. 0.]\n",
      " [0. 0. 0.]]\n"
     ]
    }
   ],
   "source": [
    "import numpy as np\n",
    "\n",
    "x = np.zeros([2, 3])\n",
    "print(x)"
   ]
  },
  {
   "cell_type": "markdown",
   "metadata": {
    "slideshow": {
     "slide_type": "subslide"
    }
   },
   "source": [
    "## 8.1.1 Solve and plot a differential equation\n",
    "\n",
    "To solve the following differential equation:\n",
    "\n",
    "$$dh/dt = -r_1 h -r_2 h$$\n",
    "$$di/dt = r_2 h + r_3 I (I_{max}-I)$$"
   ]
  },
  {
   "cell_type": "code",
   "execution_count": 37,
   "metadata": {
    "slideshow": {
     "slide_type": "-"
    }
   },
   "outputs": [
    {
     "data": {
      "image/png": "[encoded data removed]",
      "text/plain": [
       "<Figure size 432x288 with 1 Axes>"
      ]
     },
     "metadata": {
      "needs_background": "light"
     },
     "output_type": "display_data"
    }
   ],
   "source": [
    "from scipy.integrate import solve_ivp\n",
    "def twocomp_model(t, y, p) -> float:\n",
    "    dhdt = -p[\"r1\"] * y[0] - p[\"r2\"] * y[0]\n",
    "    didt = p[\"r2\"] * y[0] + p[\"r3\"] * y[1] * (p[\"Imax\"]  - y[1])\n",
    "    return [dhdt, didt]\n",
    "tlist, y0 = [0, 5], [1000, 0]\n",
    "pars = {\"r1\":1.0, \"r2\":1.0, \"r3\":0.001, \"Imax\":3000} # dictionary of parameters\n",
    "sol = solve_ivp(lambda t, y: twocomp_model(t, y, pars), tlist, y0)\n",
    "plt.plot(sol.t, sol.y[0,:], \"red\", label=\"h\");"
   ]
  },
  {
   "cell_type": "markdown",
   "metadata": {
    "slideshow": {
     "slide_type": "subslide"
    }
   },
   "source": [
    "# 8.2 `python` for `R` users\n",
    "\n",
    "## Counting starts with 0 in `python`, 1 in `R`\n",
    "\n",
    "## `pandas` - dataframes"
   ]
  },
  {
   "cell_type": "code",
   "execution_count": 38,
   "metadata": {
    "slideshow": {
     "slide_type": "-"
    }
   },
   "outputs": [
    {
     "data": {
      "text/html": [
       "<div>\n",
       "<style scoped>\n",
       "    .dataframe tbody tr th:only-of-type {\n",
       "        vertical-align: middle;\n",
       "    }\n",
       "\n",
       "    .dataframe tbody tr th {\n",
       "        vertical-align: top;\n",
       "    }\n",
       "\n",
       "    .dataframe thead th {\n",
       "        text-align: right;\n",
       "    }\n",
       "</style>\n",
       "<table border=\"1\" class=\"dataframe\">\n",
       "  <thead>\n",
       "    <tr style=\"text-align: right;\">\n",
       "      <th></th>\n",
       "      <th>A</th>\n",
       "      <th>B</th>\n",
       "    </tr>\n",
       "  </thead>\n",
       "  <tbody>\n",
       "    <tr>\n",
       "      <th>1</th>\n",
       "      <td>0.689940</td>\n",
       "      <td>0.942907</td>\n",
       "    </tr>\n",
       "    <tr>\n",
       "      <th>2</th>\n",
       "      <td>0.282064</td>\n",
       "      <td>0.801016</td>\n",
       "    </tr>\n",
       "    <tr>\n",
       "      <th>3</th>\n",
       "      <td>0.686383</td>\n",
       "      <td>-0.503279</td>\n",
       "    </tr>\n",
       "    <tr>\n",
       "      <th>4</th>\n",
       "      <td>-1.454698</td>\n",
       "      <td>-0.171765</td>\n",
       "    </tr>\n",
       "  </tbody>\n",
       "</table>\n",
       "</div>"
      ],
      "text/plain": [
       "          A         B\n",
       "1  0.689940  0.942907\n",
       "2  0.282064  0.801016\n",
       "3  0.686383 -0.503279\n",
       "4 -1.454698 -0.171765"
      ]
     },
     "execution_count": 38,
     "metadata": {},
     "output_type": "execute_result"
    }
   ],
   "source": [
    "import pandas as pd\n",
    "df = pd.DataFrame(np.random.randn(4, 2), index=[1,2,3,4], columns=list('AB'))\n",
    "df\n"
   ]
  },
  {
   "cell_type": "code",
   "execution_count": 39,
   "metadata": {
    "slideshow": {
     "slide_type": "-"
    }
   },
   "outputs": [
    {
     "data": {
      "text/plain": [
       "1    0.689940\n",
       "2    0.282064\n",
       "3    0.686383\n",
       "4   -1.454698\n",
       "Name: A, dtype: float64"
      ]
     },
     "execution_count": 39,
     "metadata": {},
     "output_type": "execute_result"
    }
   ],
   "source": [
    "df[\"A\"]"
   ]
  },
  {
   "cell_type": "markdown",
   "metadata": {
    "slideshow": {
     "slide_type": "slide"
    }
   },
   "source": [
    "# 9. Python 2 vs 3\n",
    "\n",
    "- 3.x is current\n",
    "- Support 2.x will stop by 2020\n",
    "- Some older packages may only work with 2.x\n",
    "\n",
    "## Key differences\n",
    "| Py2                |                                                Py3 | \n",
    "|---------------------|:-----------------------------------------------------------|\n",
    "| `print \"this is a string\"`          | `print(\"this is a string\")` |\n",
    "| `3/2` evaluates to `1`, of type `int`                | `3/2` evaluates to `1.5`, of type `float`|"
   ]
  },
  {
   "cell_type": "markdown",
   "metadata": {
    "slideshow": {
     "slide_type": "slide"
    }
   },
   "source": [
    "# 10. Why not python?\n",
    "\n",
    "## Slower than C, C++, Julia\n",
    "   - `numba` - magically compiles Python -> C (like `MATLAB Coder`)\n",
    "   - `Cython` - intermediate language with more fine-grained control\n",
    "   - C extensions - actual C code used by Python (like `Rcpp` in `R` and `mex` in `MATLAB`)\n",
    "\n",
    "## Package and python version conflicts\n",
    "   - Virtual environments\n",
    "   - `pipenv`\n",
    "\n",
    "## Fewer statistical packages\n",
    "  - Use `R` for uncommon statistical tests, easier interface\n",
    "\n",
    "## You prefer GUIs to coding\n",
    "   - Use the `MATLAB` toolbox GUIs"
   ]
  },
  {
   "cell_type": "markdown",
   "metadata": {
    "slideshow": {
     "slide_type": "slide"
    }
   },
   "source": [
    "# A. Assignment\n",
    "\n",
    "## A1.1 Obtain PDB File\n",
    "\n",
    "Fill up the following function skeleton:\n",
    "```python\n",
    "def get_pdb_file(): # insert arguments\n",
    "    print() # make print output match\n",
    "    # generalize the following variables\n",
    "    file_url = \"https://files.rcsb.org/download/zzzz.pdb\"\n",
    "    download_file_name = \"zzzz.pdb\"\n",
    "    urllib.request.urlretrieve(file_url, download_file_name) # don't modify\n",
    "    print() # make print output match\n",
    "    with open(download_file_name) as file_handle: # don't modify\n",
    "        data = file_handle.read() # don't modify\n",
    "        lines = ___ # get a list of lines\n",
    "    print() # make print output match, print first line of file\n",
    "```\n",
    "\n",
    "Expected output on the next page."
   ]
  },
  {
   "cell_type": "markdown",
   "metadata": {
    "slideshow": {
     "slide_type": "subslide"
    }
   },
   "source": [
    "### Expected outputs\n",
    "\n",
    "When you call `get_pdb_file` as follows:\n",
    "\n",
    "```python\n",
    "get_pdb_file(\"3SJU\")\n",
    "```\n",
    "you get the following output:\n",
    "\n",
    "```\n",
    "Going to download : 3SJU\n",
    "Downloaded 3SJU.pdb\n",
    "The first line is : HEADER    OXIDOREDUCTASE                          21-JUN-11   3SJU\n",
    "```"
   ]
  },
  {
   "cell_type": "code",
   "execution_count": 50,
   "metadata": {},
   "outputs": [
    {
     "ename": "SyntaxError",
     "evalue": "invalid syntax (<ipython-input-50-4291b0676eae>, line 13)",
     "output_type": "error",
     "traceback": [
      "\u001b[1;36m  File \u001b[1;32m\"<ipython-input-50-4291b0676eae>\"\u001b[1;36m, line \u001b[1;32m13\u001b[0m\n\u001b[1;33m    get_pdb_file(\"3SJU\")\u001b[0m\n\u001b[1;37m               ^\u001b[0m\n\u001b[1;31mSyntaxError\u001b[0m\u001b[1;31m:\u001b[0m invalid syntax\n"
     ]
    }
   ],
   "source": [
    "def get_pdb_file(file_name): # insert arguments\n",
    "    print(\"going to download\",file_name) # make print output match\n",
    "    # generalize the following variables\n",
    "    file_url = \"https://files.rcsb.org/download/%s.pdb\"%(file_name)\n",
    "    download_file_name = \"%s.pdb\"%file_name\n",
    "    urllib.request.urlretrieve(file_url, download_file_name) # don't modify\n",
    "    print(\"downloaded\",file_name) # make print output match\n",
    "    with open(download_file_name) as file_handle: # don't modify\n",
    "        data = file_handle.read() # don't modify\n",
    "        lines = data# get a list of lines\n",
    "    print(data(lines[0]) # make print output match, print first line of file\n",
    "    \n",
    "get_pdb_file(\"3SJU\")"
   ]
  },
  {
   "cell_type": "markdown",
   "metadata": {
    "slideshow": {
     "slide_type": "subslide"
    }
   },
   "source": [
    "## A2.1 Process file and plot amino acid frequencies\n",
    "\n",
    "The final plot should look like this:\n",
    "\n",
    "![Ooh a secret!](imgs\\f1.png \"Figure 1\")\n",
    "\n",
    "Hints on the next page."
   ]
  },
  {
   "cell_type": "markdown",
   "metadata": {
    "slideshow": {
     "slide_type": "subslide"
    }
   },
   "source": [
    "### Hints\n",
    "\n",
    "- Use the following list\n",
    "\n",
    "```python\n",
    "x = [\"Ala\", \"Arg\", \"Asn\", \"Asp\", \"Cys\", \"Glu\", \"Gly\", \"His\",\n",
    "    \"Ile\", \"Leu\", \"Lys\", \"Met\", \"Phe\", \"Pro\", \"Ser\", \"Thr\",\n",
    "    \"Trp\", \"Tyr\", \"Val\"]\n",
    "```"
   ]
  },
  {
   "cell_type": "markdown",
   "metadata": {
    "slideshow": {
     "slide_type": "fragment"
    }
   },
   "source": [
    "- One way : Extract the amino acids from the `.pdb` file using `with open...`, `str.startswith()`, `str.split()` and `str.capitalize()`. Assign to a list. The output should look something like:\n",
    "\n",
    "```python\n",
    "all_aa = [\"Met\", \"Gly\", \"Ser\"...]\n",
    "```"
   ]
  },
  {
   "cell_type": "markdown",
   "metadata": {
    "slideshow": {
     "slide_type": "fragment"
    }
   },
   "source": [
    "- Use the following function to get the counts of the amino acids.\n",
    "\n",
    "```python\n",
    "def get_counts(aa_list):\n",
    "    y = []\n",
    "    for an_aa in x:\n",
    "        y.append(aa_list.count(an_aa))\n",
    "    return y\n",
    "```"
   ]
  },
  {
   "cell_type": "markdown",
   "metadata": {
    "slideshow": {
     "slide_type": "subslide"
    }
   },
   "source": [
    "## A2.2 Use single letter amino acid labels on X axis\n",
    "\n",
    "The final plot should look like this:\n",
    "\n",
    "![alt text](imgs\\f2.png \"Figure 2\")\n",
    "\n",
    "Use the dictionary below\n",
    "\n",
    "```python\n",
    "aa_dict = {\"ala\":\"A\", \"arg\":\"R\", \"asn\":\"N\", \"asp\":\"D\", \"asx\":\"B\", \"cys\":\"C\", \"glu\":\"E\", \n",
    "           \"gln\":\"Q\",\"glx\":\"Z\",\"gly\":\"G\", \"his\":\"H\", \"ile\":\"I\",\"leu\":\"L\", \"lys\":\"K\", \"met\":\"M\",\n",
    "           \"phe\":\"F\", \"pro\":\"P\", \"ser\":\"S\", \"thr\":\"T\", \"trp\":\"W\", \"tyr\":\"Y\", \"val\":\"V\"}\n",
    "```"
   ]
  },
  {
   "cell_type": "markdown",
   "metadata": {
    "slideshow": {
     "slide_type": "subslide"
    }
   },
   "source": [
    "## A2.3 (challenge) Overlay frequencies at odd and even positions + legend\n",
    "\n",
    "Overlay two frequency plots, one of the amino acids in the even positions and another of amino acids in the odd positions. For example, if the amino acids are : \n",
    "\n",
    "```python\n",
    "aa = [\"Gly\", \"Ala\", \"Val\", \"Leu\", \"Ile\", \"Cys\"]\n",
    "```\n",
    "\n",
    "Then make histogram of the following two lists:\n",
    "```python\n",
    "aa_odd = [\"Gly\", \"Val\", \"Ile\"]\n",
    "aa_even = [\"Ala\", \"Leu\", \"Cys\"]\n",
    "```\n",
    "\n",
    "Final plot + hints on the next page.\n",
    "\n"
   ]
  },
  {
   "cell_type": "markdown",
   "metadata": {
    "slideshow": {
     "slide_type": "subslide"
    }
   },
   "source": [
    "### Final plot\n",
    "\n",
    "![alt text](imgs\\f3.png \"Figure 3\")\n",
    "\n",
    "### Hints\n",
    "1. Use the `get_counts` function defined earlier.\n"
   ]
  },
  {
   "cell_type": "markdown",
   "metadata": {
    "slideshow": {
     "slide_type": "subslide"
    }
   },
   "source": [
    "# Longest Common Subsequence\n",
    "Given two different protein or DNA sequences, biologists wish to determine how similar they are. Higher similarity indicates closer evolutionary relationship between the 2 proteins or DNA. One measure of similarity is the length of the longest common subsequence (LCS).\n",
    "\n",
    "So what is LCS? If we delete some characters from string x and some characters from string y, and the resulting two strings are equal, we call the resulting string a common subsequence. The LCS is the longest common subsequence of two strings. For example, take two strings `\"xabcfghiy\"` and `\"mabcdefghij\"`. The longest common subsequence is `\"abcfghi\"`.\n",
    "\n",
    "\n",
    "Solving LCS problem is not an easy task, which requires advanced algorithmic knowledge called dynamic programming. Classic algorithms for LCS problem such as Needleman-Wunsch algorithm and Smith-Waterman algorithm are all based on this scheme. In this assignment, you are not expected to write the algorithm by yourself, instead, use the provided module `LongestCommonSubsequence.py` as follows:\n",
    "\n",
    "##### Continued"
   ]
  },
  {
   "cell_type": "markdown",
   "metadata": {
    "slideshow": {
     "slide_type": "subslide"
    }
   },
   "source": [
    "```python\n",
    "from LongestCommonSubsequence import lcs\n",
    "```\n",
    "\n",
    "Now you are able to use the `lcs()` function. Read the signature and docstring of the function first:\n",
    "\n",
    "```python\n",
    "def lcs(str1, str2, m, n):\n",
    "    '''Dynamic programming implementation of longest common subsequences\n",
    "    (LCS) problem, print the LCS as while as the length of the LCS\n",
    "    Parameters\n",
    "    ----------\n",
    "    str1 : str\n",
    "        The first target string\n",
    "    str2 : str\n",
    "        The second target string\n",
    "    m : int\n",
    "        The length of str1\n",
    "    n : int\n",
    "        The length of str2\n",
    "    '''\n",
    "```"
   ]
  },
  {
   "cell_type": "markdown",
   "metadata": {
    "slideshow": {
     "slide_type": "subslide"
    }
   },
   "source": [
    "## A3.1 Longest common substring\n",
    "\n",
    "1. Download the proteins `3SJU` and `1X7H`.\n",
    "2. Use `LongestCommonSubsequence.py` to find the longest common subsequence. You are expected to see the following output:\n",
    "\n",
    "\n",
    "```\n",
    "The LCS is MSVAVTGSGIGLARRGGRVVGLRAGVDGCDVSVAVAAVERGPLVNAGRGGGTALALWLDTNLTGVFRVTVLAGGMEGGRIVNIASTGGKQGVAAPYASKHGVVGFTKGELATGITVNAVCPGVETPMAVREHWVTEEAIPGRYPEVAVYLAAATAQALNVCGGLGNYMSVAVTGSGIGLARRGGRVVGLRAGVDGCDVSVAVAAVERGPLVNAGRGGGTALALWLDTNLTGVFRVTVLAGGMEGGRIVNIASTGGKQGVAAPYASKHGVVGFTKGELATGITVNAVCPGVETPMAVREHWVTEEAIPGRYPEVAVYLAAATAQALNVCGGLGNY\n",
    "Length of the LCS is 334\n",
    "```\n",
    "### Hint\n",
    "\n",
    "- Make sure `LongestCommonSubsequence.py` is in the current directory!\n",
    "- You need to convert the 3 letter sequence to the 1 letter subsequence to use the function."
   ]
  },
  {
   "cell_type": "markdown",
   "metadata": {
    "slideshow": {
     "slide_type": "slide"
    }
   },
   "source": [
    "# Appendix\n",
    "\n",
    "\n",
    "## Create a virtual environment \n",
    "\n",
    "- Avoid confusion with `python` that Linux/macOS need to run\n",
    "- Work on different `python` versions\n",
    "    - This module uses `python 3.6+`\n",
    "- Keep different projects separate"
   ]
  },
  {
   "cell_type": "markdown",
   "metadata": {
    "slideshow": {
     "slide_type": "subslide"
    }
   },
   "source": [
    "# 3.1 Modes of Python\n",
    "\n",
    "## Code files\n",
    "\n",
    "<img src=\"gifs/using_code.gif\" alt=\"Python symbol\" style=\"width: 400px;\"/>\n",
    "\n",
    "\n",
    "\n",
    "- Long and involved projects\n",
    "- Submitting jobs on cluster"
   ]
  },
  {
   "cell_type": "markdown",
   "metadata": {
    "slideshow": {
     "slide_type": "subslide"
    }
   },
   "source": [
    "# 3.2\n",
    "\n",
    "## REPL\n",
    "\n",
    "<img src=\"gifs/using_repl.gif\" alt=\"Python symbol\" style=\"width: 800px;\"/>\n",
    "\n",
    "\n",
    "\n",
    "- Read-Eval-Print Loop\n",
    "- Very fast prototyping, especially on cluster etc"
   ]
  },
  {
   "cell_type": "markdown",
   "metadata": {
    "slideshow": {
     "slide_type": "subslide"
    }
   },
   "source": [
    "# 3.3\n",
    "\n",
    "## (Jupyter) Notebooks\n",
    "\n",
    "<!-- <img src=\"imgs/using_code.gif\" alt=\"Python symbol\" style=\"width: 400px;\"/> -->\n",
    "![Notebook example](imgs\\notebook_example.png)\n",
    "\n",
    "\n",
    "\n",
    "- REPL + Markdown\n",
    "- Share with others who want to see your code, write reports\n",
    "- Reproducible research\n",
    "- Works with dozens of languages including MATLAB, Mathematica, etc (see https://github.com/jupyter/jupyter/wiki/Jupyter-kernels)"
   ]
  },
  {
   "cell_type": "markdown",
   "metadata": {
    "slideshow": {
     "slide_type": "subslide"
    }
   },
   "source": [
    "# 3.4\n",
    "\n",
    "## Choosing a mode\n",
    "\n",
    "| Mode                |                                                When to use | When not to use             |\n",
    "|---------------------|:-----------------------------------------------------------|-----------------------------|\n",
    "| Code files          | - Long and involved codes<br> - Submitting jobs on cluster | Fast prototyping            |\n",
    "| REPL                | Very fast prototyping                                      | Any serious work            |\n",
    "| (Jupyter) notebooks | - Fast prototyping<br> - Embed links, images               | Long and involved codes<br> |"
   ]
  },
  {
   "cell_type": "markdown",
   "metadata": {
    "slideshow": {
     "slide_type": "subslide"
    }
   },
   "source": [
    "## 4.4 Working with Jupyter\n",
    "\n",
    "### 4.4.1 Start a Jupyter notebook\n",
    "\n",
    "From command line, do\n",
    "\n",
    "```sh\n",
    "jupyter notebook\n",
    "```\n",
    "\n",
    "### 4.4.2 Jupyter notebook and virtual environments\n",
    "\n",
    "#### Virtual environments\n",
    "- To keep separate projects separate\n",
    "- Each virtual environment has:\n",
    "    - Own version of `python` installed\n",
    "    - Own set of packages\n",
    "- Virtual environment:Python :: User:Windows\n"
   ]
  },
  {
   "cell_type": "markdown",
   "metadata": {
    "slideshow": {
     "slide_type": "subslide"
    }
   },
   "source": [
    "#### Creating a virtual environment\n",
    "\n",
    "Type the following in a terminal\n",
    "\n",
    "```sh\n",
    "conda create -n myenv python=3.6  # Creates enviroment\n",
    "conda activate myenv  # Activates environment for use\n",
    "```\n",
    "\n",
    "#### Make Jupyter notebook use your virtual environment\n",
    "\n",
    "1. Activate your virtual environment, suppose it's called `myenv`.\n",
    "2. Install the `ipykernel` package with `--user` flag.\n",
    "3. Install a kernel using `ipykernel`.\n",
    "\n",
    "```sh\n",
    "conda activate myenv\n",
    "pip install --user ipykernel\n",
    "python -m ipykernel install --user --name=myenv_kernel\n",
    "```\n"
   ]
  },
  {
   "cell_type": "markdown",
   "metadata": {
    "slideshow": {
     "slide_type": "subslide"
    }
   },
   "source": [
    "## 4.5 Jupyter and version control\n",
    "\n",
    "### Option 1: Notebook format, `.ipynb`\n",
    "- `json` format\n",
    "- More verbose\n",
    "\n",
    "### Option 2: Convert to Rmarkdown format, `.Rmd`\n",
    "- Less verbose\n",
    "- Must convert back and forth\n",
    "\n",
    "First install `jupytext package`\n",
    "\n",
    "```sh\n",
    "pip install jupytext\n",
    "```\n",
    "\n",
    "Conversions to and from `.Rmd`\n",
    "\n",
    "```sh\n",
    "jupytext --to ipynb notebook.Rmd   # convert Rmd to ipynb\n",
    "jupytext --to rmarkdown notebook.ipynb   # convert ipynb to Rmd\n",
    "\n",
    "```"
   ]
  }
 ],
 "metadata": {
  "celltoolbar": "Slideshow",
  "kernelspec": {
   "display_name": "Python 3",
   "language": "python",
   "name": "python3"
  },
  "language_info": {
   "codemirror_mode": {
    "name": "ipython",
    "version": 3
   },
   "file_extension": ".py",
   "mimetype": "text/x-python",
   "name": "python",
   "nbconvert_exporter": "python",
   "pygments_lexer": "ipython3",
   "version": "3.6.6"
  }
 },
 "nbformat": 4,
 "nbformat_minor": 2
}
